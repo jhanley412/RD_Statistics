{
 "cells": [
  {
   "cell_type": "code",
   "execution_count": 14,
   "metadata": {
    "collapsed": false
   },
   "outputs": [
    {
     "name": "stdout",
     "output_type": "stream",
     "text": [
      "0.3333333333333334\n"
     ]
    }
   ],
   "source": [
    "#Return the probability of A conditioned on B given that \n",
    "#P(A)=p0, P(B|A)=p1, and P(Not B (A)|Not A (B))=p2 \n",
    "\n",
    "def f(p0,p1,p2):\n",
    "#Insert your code here\n",
    "    p_of_Cancer = p0\n",
    "    p_of_noCancer = 1 - p0\n",
    "    \n",
    "    p_of_pos_given_Cancer = p1\n",
    "    p_of_neg_given_Cancer = 1-p1\n",
    "    \n",
    "    p_of_neg_given_noCancer = p2\n",
    "    p_of_pos_given_noCancer = 1-p2\n",
    "    \n",
    "    #Normalizer\n",
    "    total_prob_pos = (p_of_Cancer * p_of_pos_given_Cancer) + (p_of_noCancer * p_of_pos_given_noCancer)\n",
    "    \n",
    "    #Posterior\n",
    "    post_prob_cancer_given_pos = (p_of_Cancer * p_of_pos_given_Cancer)/total_prob_pos\n",
    "    \n",
    "    return(post_prob_cancer_given_pos)\n",
    "\n",
    "print( f(0.1,.9,.8))\n"
   ]
  },
  {
   "cell_type": "code",
   "execution_count": 1,
   "metadata": {
    "collapsed": false
   },
   "outputs": [
    {
     "name": "stdout",
     "output_type": "stream",
     "text": [
      "0.013698630136986297\n"
     ]
    }
   ],
   "source": [
    "#Return the probability of A conditioned on Not B given that \n",
    "#P(A)=p0, P(B|A)=p1, and P(Not B|Not A)=p2 \n",
    "\n",
    "def f(p0,p1,p2):\n",
    "#Insert your code here\n",
    "    p_of_Cancer = p0\n",
    "    p_of_noCancer = 1 - p0\n",
    "    \n",
    "    p_of_pos_given_Cancer = p1\n",
    "    p_of_neg_given_Cancer = 1-p1\n",
    "    \n",
    "    p_of_neg_given_noCancer = p2\n",
    "    p_of_pos_given_noCancer = 1-p2\n",
    "    \n",
    "    \n",
    "    #Normalizer\n",
    "    total_prob_neg = (p_of_Cancer * p_of_neg_given_Cancer) + (p_of_noCancer * p_of_neg_given_noCancer)\n",
    "    \n",
    "    #Posterior\n",
    "    post_prob_cancer_given_neg = (p_of_Cancer * p_of_neg_given_Cancer)/total_prob_neg\n",
    "    \n",
    "    return(post_prob_cancer_given_neg)\n",
    "\n",
    "print( f(0.1,.9,.8))"
   ]
  },
  {
   "cell_type": "code",
   "execution_count": 1,
   "metadata": {
    "collapsed": true
   },
   "outputs": [],
   "source": [
    "#Return the probabilities of an event A occurring given evidence B\n",
    "\n",
    "def bayes_theorem(p_a, p_b_given_a, p_not_b_given_not_a):\n",
    "    #Prior Probability\n",
    "    p_a = p_a    #P(A)\n",
    "    p_not_a = 1 - p_a    #P(-A)\n",
    "    \n",
    "    p_b_given_a = p_b_given_a    #P(B|A) aka sensitivity\n",
    "    p_not_b_given_a = 1 - p_b_given_a    #P(-B|A)\n",
    "    \n",
    "    p_b_given_not_a = 1 - p_not_b_given_not_a    #P(B|-A)\n",
    "    p_not_b_given_not_a = p_not_b_given_not_a    #P(-B|-A)  aka specificity\n",
    "    \n",
    "    \n",
    "    #Joint Probability used to calculate the normalizer\n",
    "    p_a_b = p_a * p_b_given_a    #P(A,B)\n",
    "    p_not_a_b = p_not_a * p_b_given_not_a    #P(-A,B)\n",
    "    p_b = p_a_b + p_not_a_b    #P(B)\n",
    "    \n",
    "    p_a_not_b = p_a * p_not_b_given_a    #P(A,-B)\n",
    "    p_not_a_not_b = p_not_a * p_not_b_given_not_a    #P(-A,-B)\n",
    "    p_not_b = p_a_not_b + p_not_a_not_b    #P(-B)\n",
    "    \n",
    "    #Posterior Probability\n",
    "    p_a_given_b = p_a_b / p_b    #P(A|B)\n",
    "    p_not_a_given_b = p_not_a_b / p_b    #P(-A|B)\n",
    "    p_a_given_not_b = p_a_not_b / p_not_b    #P(A|-B)\n",
    "    p_not_a_given_not_b = p_not_a_not_b / p_not_b    #P(-A|-B)\n",
    "    \n",
    "    #Return Posterior Probabilities\n",
    "    posterior_prob = {}\n",
    "    posterior_prob['P(A|B)'] = p_a_given_b\n",
    "    posterior_prob['P(-A|B)'] = p_not_a_given_b\n",
    "    posterior_prob['P(A|-B)'] = p_a_given_not_b\n",
    "    posterior_prob['P(-A|-B)'] = p_not_a_given_not_b\n",
    "    return(posterior_prob)"
   ]
  },
  {
   "cell_type": "code",
   "execution_count": 3,
   "metadata": {
    "collapsed": false
   },
   "outputs": [
    {
     "data": {
      "text/plain": [
       "{'P(-A|-B)': 0.9988789237668162,\n",
       " 'P(-A|B)': 0.9166666666666666,\n",
       " 'P(A|-B)': 0.0011210762331838563,\n",
       " 'P(A|B)': 0.08333333333333336}"
      ]
     },
     "execution_count": 3,
     "metadata": {},
     "output_type": "execute_result"
    }
   ],
   "source": [
    "bayes_theorem(0.01, 0.9, .9)"
   ]
  },
  {
   "cell_type": "code",
   "execution_count": null,
   "metadata": {
    "collapsed": true
   },
   "outputs": [],
   "source": []
  }
 ],
 "metadata": {
  "kernelspec": {
   "display_name": "Python 3",
   "language": "python",
   "name": "python3"
  },
  "language_info": {
   "codemirror_mode": {
    "name": "ipython",
    "version": 3
   },
   "file_extension": ".py",
   "mimetype": "text/x-python",
   "name": "python",
   "nbconvert_exporter": "python",
   "pygments_lexer": "ipython3",
   "version": "3.4.3"
  }
 },
 "nbformat": 4,
 "nbformat_minor": 0
}
